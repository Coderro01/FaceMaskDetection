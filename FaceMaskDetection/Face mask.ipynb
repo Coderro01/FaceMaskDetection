{
 "cells": [
  {
   "cell_type": "code",
   "execution_count": null,
   "metadata": {},
   "outputs": [],
   "source": [
    "import tensorflow as tf\n",
    "import cv2\n",
    "import os\n",
    "import matplotlib.pyplot as plt\n",
    "import numpy as np \n"
   ]
  },
  {
   "cell_type": "code",
   "execution_count": null,
   "metadata": {},
   "outputs": [],
   "source": [
    "img_array= cv2.imread(\"datasets\\\\with_mask\\\\00000_Mask.jpg\")"
   ]
  },
  {
   "cell_type": "code",
   "execution_count": null,
   "metadata": {},
   "outputs": [],
   "source": [
    "plt.imshow(img_array)"
   ]
  },
  {
   "cell_type": "code",
   "execution_count": null,
   "metadata": {},
   "outputs": [],
   "source": [
    "\n",
    "Datadirectory = \"datasets/\"\n",
    "Classes = [\"with_mask\",\"without_mask\"]\n",
    "for category in Classes:\n",
    "    path=os.path.join(Datadirectory,category)\n",
    "    for img in os.listdir(path):\n",
    "        img_array = cv2.imread(os.path.join(path,img))\n",
    "        #blacktorgb = cv2.cvtColor(img_array,cv2.COLOR_GRAY2RGB)\n",
    "        plt.imshow(cv2.cvtColor(img_array,cv2.COLOR_BGR2RGB))\n",
    "        plt.show()\n",
    "        break\n",
    "    break\n"
   ]
  },
  {
   "cell_type": "code",
   "execution_count": null,
   "metadata": {},
   "outputs": [],
   "source": [
    "img_size = 224 ##ImageNet = 224*224\n",
    "\n",
    "new_array = cv2.resize(img_array,(img_size,img_size))\n",
    "plt.imshow(cv2.cvtColor(new_array,cv2.COLOR_BGR2RGB))\n",
    "plt.show()"
   ]
  },
  {
   "cell_type": "markdown",
   "metadata": {},
   "source": [
    "Reading the images and converting all to array\n"
   ]
  },
  {
   "cell_type": "code",
   "execution_count": null,
   "metadata": {},
   "outputs": [],
   "source": [
    "training_Data = []\n",
    "\n",
    "def create_training_Data():\n",
    "    for category in Classes:\n",
    "        path = os.path.join(Datadirectory,category)\n",
    "        class_num = Classes.index(category)\n",
    "        for img in os.listdir(path):\n",
    "            try:\n",
    "                img_array=cv2.imread(os.path.join(path,img))\n",
    "                new_array=cv2.resize(img_array,(img_size,img_size))\n",
    "                training_Data.append([new_array,class_num])\n",
    "            except Exception as e:\n",
    "                pass\n"
   ]
  },
  {
   "cell_type": "code",
   "execution_count": null,
   "metadata": {},
   "outputs": [],
   "source": [
    "create_training_Data()"
   ]
  },
  {
   "cell_type": "code",
   "execution_count": null,
   "metadata": {},
   "outputs": [],
   "source": [
    "print(len(training_Data))"
   ]
  },
  {
   "cell_type": "code",
   "execution_count": null,
   "metadata": {},
   "outputs": [],
   "source": [
    "import random\n",
    "\n",
    "random.shuffle(training_Data)\n"
   ]
  },
  {
   "cell_type": "code",
   "execution_count": null,
   "metadata": {},
   "outputs": [],
   "source": [
    "X= [] #data features\n",
    "Y= [] #label\n",
    "\n",
    "for features,lable in training_Data:\n",
    "    X.append(features)\n",
    "    Y.append(lable)\n",
    "\n",
    "X = np.array(X).reshape(-1,img_size,img_size,3)"
   ]
  },
  {
   "cell_type": "code",
   "execution_count": null,
   "metadata": {},
   "outputs": [],
   "source": [
    "X.shape"
   ]
  },
  {
   "cell_type": "code",
   "execution_count": null,
   "metadata": {},
   "outputs": [],
   "source": [
    "#normalize the data\n",
    "X = X/225.0"
   ]
  },
  {
   "cell_type": "code",
   "execution_count": null,
   "metadata": {},
   "outputs": [],
   "source": [
    "import pickle\n",
    "\n",
    "pickle_out = open(\"X.pickle\",\"wb\")\n",
    "pickle.dump(X,pickle_out)\n",
    "pickle_out.close()\n",
    "\n",
    "pickle_out= open(\"Y.pickle\",\"wb\")\n",
    "pickle.dump(Y,pickle_out)\n",
    "pickle_out.close()\n"
   ]
  },
  {
   "cell_type": "code",
   "execution_count": null,
   "metadata": {},
   "outputs": [],
   "source": [
    "pickle_in = open(\"X.pickle\", \"rb\")\n",
    "X = pickle.load(pickle_in)\n",
    "\n",
    "pickle_in = open(\"Y.pickle\", \"rb\")\n",
    "Y= pickle.load(pickle_in)"
   ]
  },
  {
   "cell_type": "markdown",
   "metadata": {},
   "source": [
    "Deep learning model for training - Transfer learning"
   ]
  },
  {
   "cell_type": "code",
   "execution_count": null,
   "metadata": {},
   "outputs": [],
   "source": [
    "import tensorflow as tf\n",
    "from tensorflow import keras\n",
    "from tensorflow.keras import layers"
   ]
  },
  {
   "cell_type": "code",
   "execution_count": null,
   "metadata": {},
   "outputs": [],
   "source": [
    "model = tf.keras.applications.mobilenet.MobileNet() #pre trained model\n"
   ]
  },
  {
   "cell_type": "code",
   "execution_count": null,
   "metadata": {},
   "outputs": [],
   "source": [
    "model.summary()"
   ]
  },
  {
   "cell_type": "markdown",
   "metadata": {},
   "source": [
    "Transfer learning\n"
   ]
  },
  {
   "cell_type": "code",
   "execution_count": null,
   "metadata": {},
   "outputs": [],
   "source": [
    "base_input = model.layers[0].input\n"
   ]
  },
  {
   "cell_type": "code",
   "execution_count": null,
   "metadata": {},
   "outputs": [],
   "source": [
    "base_output = model.layers[-4].output"
   ]
  },
  {
   "cell_type": "code",
   "execution_count": null,
   "metadata": {},
   "outputs": [],
   "source": [
    "Flat_layers = layers.Flatten()(base_output)\n",
    "final_output = layers.Dense(1)(Flat_layers)\n",
    "final_output= layers.Activation('sigmoid')(final_output)\n"
   ]
  },
  {
   "cell_type": "code",
   "execution_count": null,
   "metadata": {},
   "outputs": [],
   "source": [
    "new_model = keras.Model(inputs = base_input,outputs= final_output)"
   ]
  },
  {
   "cell_type": "code",
   "execution_count": null,
   "metadata": {},
   "outputs": [],
   "source": [
    "new_model.summary()"
   ]
  },
  {
   "cell_type": "markdown",
   "metadata": {},
   "source": [
    "Settings for binary classification (Face mask / without mask) "
   ]
  },
  {
   "cell_type": "code",
   "execution_count": null,
   "metadata": {},
   "outputs": [],
   "source": [
    "new_model.compile(loss =\"binary_crossentropy\",optimizer=\"adam\",metrics=[\"accuracy\"])\n"
   ]
  },
  {
   "cell_type": "code",
   "execution_count": null,
   "metadata": {},
   "outputs": [],
   "source": [
    "X=np.array(X)\n",
    "Y=np.array(Y)"
   ]
  },
  {
   "cell_type": "code",
   "execution_count": null,
   "metadata": {},
   "outputs": [],
   "source": [
    "new_model.fit(X,Y, epochs=1,validation_split=0.1)"
   ]
  },
  {
   "cell_type": "code",
   "execution_count": null,
   "metadata": {},
   "outputs": [],
   "source": [
    "evaluation = new_model.evaluate(X, Y)\n",
    "print(\"Loss:\", evaluation[0])\n",
    "print(\"Accuracy:\", evaluation[1])"
   ]
  },
  {
   "cell_type": "code",
   "execution_count": null,
   "metadata": {},
   "outputs": [],
   "source": [
    "new_model.save('face_mask_detection_model.h5')"
   ]
  },
  {
   "cell_type": "code",
   "execution_count": null,
   "metadata": {},
   "outputs": [],
   "source": [
    "new_model = tf.keras.models.load_model('face_mask_detection_model.h5')\n"
   ]
  },
  {
   "cell_type": "markdown",
   "metadata": {},
   "source": [
    "Checking the network for presiction"
   ]
  },
  {
   "cell_type": "code",
   "execution_count": null,
   "metadata": {},
   "outputs": [],
   "source": [
    "frame = cv2.imread(\"00003_Mask.jpg\")\n"
   ]
  },
  {
   "cell_type": "code",
   "execution_count": null,
   "metadata": {},
   "outputs": [],
   "source": [
    "plt.imshow(cv2.cvtColor(frame,cv2.COLOR_BGR2RGB))\n",
    "plt.show()"
   ]
  },
  {
   "cell_type": "code",
   "execution_count": null,
   "metadata": {},
   "outputs": [],
   "source": [
    "final_image = cv2.resize(frame,(224,224))\n",
    "final_image = np.expand_dims(final_image,axis=0)\n",
    "final_image = final_image/255.0"
   ]
  },
  {
   "cell_type": "code",
   "execution_count": null,
   "metadata": {},
   "outputs": [],
   "source": [
    "final_image = final_image.astype('float32')\n"
   ]
  },
  {
   "cell_type": "code",
   "execution_count": null,
   "metadata": {},
   "outputs": [],
   "source": [
    "print(final_image.dtype)\n"
   ]
  },
  {
   "cell_type": "code",
   "execution_count": null,
   "metadata": {},
   "outputs": [],
   "source": [
    "Predictions = new_model.predict(final_image)"
   ]
  },
  {
   "cell_type": "code",
   "execution_count": null,
   "metadata": {},
   "outputs": [],
   "source": [
    "Predictions"
   ]
  },
  {
   "cell_type": "markdown",
   "metadata": {},
   "source": [
    "checking the network for unknown image\n"
   ]
  },
  {
   "cell_type": "code",
   "execution_count": null,
   "metadata": {},
   "outputs": [],
   "source": [
    "frame = cv2.imread('00003_Mask.jpg')"
   ]
  },
  {
   "cell_type": "code",
   "execution_count": null,
   "metadata": {},
   "outputs": [],
   "source": [
    "plt.imshow(cv2.cvtColor(frame,cv2.COLOR_BGR2RGB))"
   ]
  },
  {
   "cell_type": "code",
   "execution_count": null,
   "metadata": {},
   "outputs": [],
   "source": [
    "faceCascade = cv2.CascadeClassifier(cv2.data.haarcascades + 'haarcascade_frontalface_default.xml')"
   ]
  },
  {
   "cell_type": "code",
   "execution_count": null,
   "metadata": {},
   "outputs": [],
   "source": [
    "gray = cv2.cvtColor(frame,cv2.COLOR_BGR2GRAY)"
   ]
  },
  {
   "cell_type": "code",
   "execution_count": null,
   "metadata": {},
   "outputs": [],
   "source": [
    "gray.shape"
   ]
  },
  {
   "cell_type": "code",
   "execution_count": null,
   "metadata": {},
   "outputs": [],
   "source": [
    "faces = faceCascade.detectMultiScale(gray,1.1,4)\n",
    "for x,y,w,h in faces:\n",
    "    roi_gray = gray[y:y+h, x:x+w]\n",
    "    roi_color = frame[y:y+h, x:x+w]\n",
    "    cv2.rectangle(frame,(x,y),(x+w,y+h),(255,0,0),2)\n",
    "    facess = faceCascade.detectMultiScale(roi_gray)\n",
    "    if len(facess) == 0:\n",
    "        print(\"Face not detected\")\n",
    "    else:\n",
    "        for (ex,ey,ew,eh) in facess:\n",
    "            face_roi = roi_color[ey:ey+eh, ex:ex + ew]"
   ]
  },
  {
   "cell_type": "code",
   "execution_count": null,
   "metadata": {},
   "outputs": [],
   "source": [
    "plt.imshow(cv2.cvtColor(frame,cv2.COLOR_BGR2RGB))"
   ]
  },
  {
   "cell_type": "code",
   "execution_count": null,
   "metadata": {},
   "outputs": [],
   "source": [
    "plt.imshow(cv2.cvtColor(face_roi,cv2.COLOR_BGR2RGB))"
   ]
  },
  {
   "cell_type": "code",
   "execution_count": null,
   "metadata": {},
   "outputs": [],
   "source": [
    "final_image = cv2.resize(face_roi,(224,224))\n",
    "final_image = np.expand_dims(final_image,axis=0)\n",
    "final_image = final_image/255.0"
   ]
  },
  {
   "cell_type": "code",
   "execution_count": null,
   "metadata": {},
   "outputs": [],
   "source": [
    "\n",
    "final_image = final_image.astype('float32')\n"
   ]
  },
  {
   "cell_type": "code",
   "execution_count": null,
   "metadata": {},
   "outputs": [],
   "source": [
    "print(final_image.dtype)\n"
   ]
  },
  {
   "cell_type": "code",
   "execution_count": null,
   "metadata": {},
   "outputs": [],
   "source": [
    "print(new_model.summary())\n",
    "\n",
    "\n"
   ]
  },
  {
   "cell_type": "code",
   "execution_count": null,
   "metadata": {},
   "outputs": [],
   "source": [
    "Predictions = new_model.predict(final_image)"
   ]
  },
  {
   "cell_type": "code",
   "execution_count": null,
   "metadata": {},
   "outputs": [],
   "source": [
    "Predictions"
   ]
  },
  {
   "cell_type": "markdown",
   "metadata": {},
   "source": [
    "REALTIME VIDEO DEMO\n",
    "\n",
    "FACE MASK DETECTION"
   ]
  },
  {
   "cell_type": "code",
   "execution_count": null,
   "metadata": {},
   "outputs": [],
   "source": [
    "#YOUTUBE CODE\n",
    "\n",
    "import cv2\n",
    "path  = \"haarcascade_frontalface_default.xml\"\n",
    "font_scale = 1.5\n",
    "font = cv2.FONT_HERSHEY_PLAIN\n",
    "\n",
    "#set the rectangle background to white\n",
    "rectangle_bar = (255,255,255)\n",
    "#make a black image\n",
    "img = np.zeros((500,500))\n",
    "#set some text\n",
    "text =\"Some text in a box!\"\n",
    "#get the width and height of the text box\n",
    "(text_width,text_height) = cv2.getTextSize(text,font,fontScale=font_scale,thickness=1)[0]\n",
    "#set the text start position\n",
    "text_offset_x = 10\n",
    "text_offset_y = img.shape[0]-25\n",
    "#make the coords of the box with a small padding of two pixels\n",
    "box_coords = ((text_offset_x , text_offset_y),(text_offset_x + text_width + 2 , text_offset_y - text_height -2))\n",
    "cv2.rectangle(img,box_coords[0],box_coords[1],rectangle_bar, cv2.FILLED)\n",
    "cv2.putText(img,text,(text_offset_x,text_offset_y),font,fontScale=font_scale,color=(0,0,0),thickness=1)\n",
    "\n",
    "cap= cv2.VideoCapture(1)\n",
    "#check if the web cam is opened correctly\n",
    "if not cap.isOpened():\n",
    "    cap = cv2.VideoCapture(0)\n",
    "if not cap.isOpened():\n",
    "    raise IOError(\"Cannot open webcam\")\n",
    "while True:\n",
    "    ret,frame=cap.read()\n",
    "    faceCascade = cv2.CascadeClassifier(cv2.data.haarcascades+'haarcascade_frontalface_default.xml')\n",
    "    gray = cv2.cvtColor(frame,cv2.COLOR_BGR2GRAY)\n",
    "    #print (faceCascade.empty())\n",
    "    faces = faceCascade.detectMultiScale(gray,1.1,4)\n",
    "    for x,y,w,h in faces:\n",
    "        roi_gray = gray[y:y+h , x:x+w]\n",
    "        roi_color = frame[y:y+h , x:x+w]\n",
    "        cv2.rectangle(frame,(x,y),(x+w, y+h),(255,0,0),2)\n",
    "        facess = faceCascade.detectMultiScale(roi_gray)\n",
    "        if len(facess) ==0:\n",
    "            print(\"Face not detected\")\n",
    "        else:\n",
    "            for (ex,ey,ew,eh) in facess:\n",
    "                face_roi = roi_color[ey+eh,ex:ex+ew]\n",
    "    final_image = cv2.resize(face_roi,(224,224))\n",
    "    final_image = np.expand_dims(final_image,axis=0)\n",
    "    final_image=final_image/255.0\n",
    "    font = cv2.FONT_HERSHEY_SIMPLEX\n",
    "    \n",
    "    Predictions = new_model.predict(final_image)\n",
    "\n",
    "    font_scale = 1.5\n",
    "    font = cv2.FONT_HERSHEY_PLAIN\n",
    "\n",
    "\n",
    "    if (Predictions [0][0] > 0.5):\n",
    "        status = \"No Mask\"\n",
    "\n",
    "        x1,y1,w1,h1 = 0,0,175,75\n",
    "        #draw black background rectangle\n",
    "        cv2.rectangle(frame,(x1,x1),(x1 + w1, y1+h1),(0,0,0),-1)\n",
    "        #add text\n",
    "        cv2.putText(frame,status,(x1 + int(w1/10),y1+int(h1/2)),cv2.FONT_HERSHEY_SIMPLEX,0.7,(0,0,255),2)\n",
    "\n",
    "        cv2.putText(frame, status (100,150),font,3,(0,0,255),2,cv2.LINE_4)\n",
    "\n",
    "        cv2.rectangle(frame,(x,y),(x+w, y+h),(0,0,255))\n",
    "    else:\n",
    "        status =\"Face Mask\"\n",
    "\n",
    "        x1,y1,w1,h1 = 0,0,175,75\n",
    "        #draw black background rectangle\n",
    "        cv2.rectangle(frame,(x1 + int(w1/10),y1 + int(h1/2)),cv2.FONT_HERSHEY_SIMPLEX,0.7 , (0,255,0),2)\n",
    "        cv2.putText(frame, status (100,150),font,3,(0,0,255),2,cv2.LINE_4)\n",
    "        cv2.rectangle(frame,(x,y),(x+w, y+h),(0,255,0))\n",
    "\n",
    "        cv2.imshow('Face mask detection tutotial',frame)\n",
    "        if cv2.waitKey(2)& 0xFF == ord('q'):\n",
    "            break\n",
    "\n",
    "cap.release()\n",
    "cv2.destroyAllWindows()\n"
   ]
  },
  {
   "cell_type": "code",
   "execution_count": null,
   "metadata": {},
   "outputs": [],
   "source": [
    "import cv2\n",
    "path  = \"haarcascade_frontalface_default.xml\"\n",
    "font_scale = 1.5\n",
    "font = cv2.FONT_HERSHEY_PLAIN\n",
    "\n",
    "import numpy as np\n",
    "import tensorflow as tf\n",
    "\n",
    "# ... (Previous code)\n",
    "\n",
    "cap = cv2.VideoCapture(1)\n",
    "if not cap.isOpened():\n",
    "    cap = cv2.VideoCapture(0)\n",
    "if not cap.isOpened():\n",
    "    raise IOError(\"Cannot open webcam\")\n",
    "\n",
    "while True:\n",
    "    ret, frame = cap.read()\n",
    "    faceCascade = cv2.CascadeClassifier(cv2.data.haarcascades + 'haarcascade_frontalface_default.xml')\n",
    "    gray = cv2.cvtColor(frame, cv2.COLOR_BGR2GRAY)\n",
    "    faces = faceCascade.detectMultiScale(gray, 1.1, 4)\n",
    "    \n",
    "    for x, y, w, h in faces:\n",
    "        roi_gray = gray[y:y+h, x:x+w]\n",
    "        roi_color = frame[y:y+h, x:x+w]\n",
    "        cv2.rectangle(frame, (x, y), (x+w, y+h), (255, 0, 0), 2)\n",
    "        facess = faceCascade.detectMultiScale(roi_gray)\n",
    "        \n",
    "        if len(facess) == 0:\n",
    "            print(\"Face not detected\")\n",
    "        else:\n",
    "            for (ex, ey, ew, eh) in facess:\n",
    "                face_roi = roi_color[ey:ey+eh, ex:ex+ew]\n",
    "    \n",
    "    final_image = cv2.resize(face_roi, (224, 224))\n",
    "    final_image = np.expand_dims(final_image, axis=0)\n",
    "    final_image = final_image / 255.0\n",
    "    \n",
    "    Predictions = new_model.predict(final_image)\n",
    "    \n",
    "    font_scale = 1.5\n",
    "    font = cv2.FONT_HERSHEY_PLAIN\n",
    "    \n",
    "    if Predictions  [0][0] > 0.5:\n",
    "        status = \"No Mask\"\n",
    "        x1, y1, w1, h1 = 0, 0, 175,75\n",
    "        cv2.rectangle(frame, (x1, y1), (x1 + w1, y1+h1), (0, 0, 0), -1)\n",
    "        cv2.putText(frame, status, (x1 + int(w1/10), y1+int(h1/2)), cv2.FONT_HERSHEY_SIMPLEX, 0.7, (0, 0, 255), 2)\n",
    "        cv2.putText(frame, status, (100, 150), font, 3, (0, 0, 255), 2, cv2.LINE_4)\n",
    "        cv2.rectangle(frame, (x, y), (x+w, y+h), (0, 0, 255))\n",
    "    else:\n",
    "        status = \"Face Mask\"\n",
    "        x1, y1, w1, h1 = 0, 0, 175,75\n",
    "        cv2.rectangle(frame, (x1 + int(w1/10), y1 + int(h1/2)), cv2.FONT_HERSHEY_SIMPLEX, 0.7, (0, 255, 0), 2)\n",
    "        cv2.putText(frame, status, (100, 150), font, 3, (0, 0, 255), 2, cv2.LINE_4)\n",
    "        cv2.rectangle(frame, (x, y), (x+w, y+h), (0, 255, 0))\n",
    "\n",
    "    cv2.imshow('Face mask detection ', frame)\n",
    "    \n",
    "    if cv2.waitKey(2) & 0xFF == ord('q'):\n",
    "        break\n",
    "\n",
    "cap.release()\n",
    "cv2.destroyAllWindows()\n"
   ]
  },
  {
   "cell_type": "code",
   "execution_count": null,
   "metadata": {},
   "outputs": [],
   "source": [
    "import cv2\n",
    "import numpy as np\n",
    "import tensorflow as tf\n",
    "\n",
    "# Load the face detection Haar Cascade classifier\n",
    "face_cascade = cv2.CascadeClassifier(cv2.data.haarcascades + 'haarcascade_frontalface_default.xml')\n",
    "\n",
    "# Load the mask detection model\n",
    "mask_detection_model = tf.keras.models.load_model('face_mask_detection_model.h5')\n",
    "\n",
    "cap = cv2.VideoCapture(0)\n",
    "\n",
    "while True:\n",
    "    ret, frame = cap.read()\n",
    "    if not ret:\n",
    "        break\n",
    "\n",
    "    # Convert the frame to grayscale for face detection\n",
    "    gray = cv2.cvtColor(frame, cv2.COLOR_BGR2GRAY)\n",
    "\n",
    "    # Detect faces in the frame\n",
    "    faces = face_cascade.detectMultiScale(gray, scaleFactor=1.1, minNeighbors=5, minSize=(30, 30))\n",
    "\n",
    "    for (x, y, w, h) in faces:\n",
    "        # Extract the face region from the frame\n",
    "        face_roi = frame[y:y + h, x:x + w]\n",
    "\n",
    "        # Preprocess the face for mask detection\n",
    "        face_roi = cv2.resize(face_roi, (224, 224))\n",
    "        face_roi = np.expand_dims(face_roi, axis=0)\n",
    "        face_roi = face_roi / 255.0\n",
    "\n",
    "        # Make mask detection predictions\n",
    "        mask_predictions = mask_detection_model.predict(face_roi)\n",
    "\n",
    "        # Display the face rectangle with label\n",
    "        if mask_predictions[0][0] > 0.5:\n",
    "            label = \"No Mask\"\n",
    "            color = (0, 0, 255)  # Red for no mask\n",
    "        else:\n",
    "            label = \"Mask\"\n",
    "            color = (0, 255, 0)  # Green for mask\n",
    "\n",
    "        # Draw the face rectangle and label\n",
    "        cv2.rectangle(frame, (x, y), (x + w, y + h), color, 2)\n",
    "        cv2.putText(frame, label, (x, y - 10), cv2.FONT_HERSHEY_SIMPLEX, 0.9, color, 2)\n",
    "\n",
    "    # Display the frame with face and mask detection\n",
    "    cv2.imshow('Face and Mask Detection', frame)\n",
    "\n",
    "    # Exit the loop if 'q' is pressed\n",
    "    if cv2.waitKey(1) & 0xFF == ord('q'):\n",
    "        break\n",
    "\n",
    "cap.release()\n",
    "cv2.destroyAllWindows()\n"
   ]
  }
 ],
 "metadata": {
  "kernelspec": {
   "display_name": "Python 3",
   "language": "python",
   "name": "python3"
  },
  "language_info": {
   "codemirror_mode": {
    "name": "ipython",
    "version": 3
   },
   "file_extension": ".py",
   "mimetype": "text/x-python",
   "name": "python",
   "nbconvert_exporter": "python",
   "pygments_lexer": "ipython3",
   "version": "3.11.5"
  }
 },
 "nbformat": 4,
 "nbformat_minor": 2
}
